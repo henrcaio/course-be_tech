{
  "cells": [
    {
      "cell_type": "markdown",
      "metadata": {
        "id": "zOTIvYGopZHy"
      },
      "source": [
        "# Análise de Dados sobre Popularidade de Músicas no Spotify 🎵📊\n",
        "\n",
        "**Projeto Final | Módulo: Machine Learning 1 | Programa <BeTech\\> by Braskem**\n",
        "\n",
        "**Alunos:**\n",
        "- Caio Henrique\n",
        "- Daniel Costa\n",
        "- Janderson Freitas\n",
        "- Maria Carolina Barros\n",
        "- Robinson\n",
        "\n",
        "## Introdução\n",
        "\n",
        "Este é o projeto final do módulo \"Machine Learning 1\". Nossa missão é prever a popularidade de músicas no Spotify. Imagine que estamos atuando como uma gravadora e desejamos criar um modelo capaz de antecipar quais músicas têm potencial para se tornarem populares.\n",
        "\n",
        "Para realizar essa tarefa, utilizaremos o conjunto de dados do Spotify, disponível no Kaggle. Este conjunto de dados contém informações sobre diversas características das músicas, como *danceability*, *energy*, *loudness*, entre outras, bem como uma medida de *popularidade*.\n",
        "\n",
        "Nosso objetivo é explorar esses dados, criar modelos de machine learning e identificar a popularidade das músicas. Com isso, esperamos tomar decisões mais informadas ao escolher músicas para promover e investir.\n",
        "\n",
        "Vamos começar nossa jornada de análise e predição de popularidade de músicas!🎵🔍\n",
        "\n",
        "## Contexto\n",
        "\n",
        "O contexto desse projeto é o de uma gravadora que deseja utilizar dados e modelos de machine learning para identificar quais músicas têm potencial para se tornarem populares. Ao entender as características que influenciam na popularidade das músicas, a gravadora pode tomar decisões mais estratégicas em relação às músicas que promove e investe.\n",
        "\n",
        "## Dataset\n",
        "\n",
        "Utilizaremos o conjunto de dados do Spotify, disponível no [*Kaggle*](https://www.kaggle.com/datasets/maharshipandya/-spotify-tracks-dataset). Este conjunto contém informações detalhadas sobre as características de várias músicas, bem como sua popularidade.\n",
        "\n",
        "## Objetivos\n",
        "\n",
        "Nossos principais objetivos neste projeto são:\n",
        "\n",
        "> Explorar e analisar o conjunto de dados do Spotify para entender as características das músicas.\n",
        "\n",
        "> Desenvolver modelos de machine learning capazes de prever a popularidade das músicas.\n",
        "\n",
        "Vamos mergulhar nos dados e iniciar nossa jornada de análise e predição de popularidade musical! 🎵🔍\n"
      ]
    },
    {
      "cell_type": "code",
      "execution_count": null,
      "metadata": {
        "colab": {
          "base_uri": "https://localhost:8080/"
        },
        "id": "9xwTWSvNSpoS",
        "outputId": "e17ef7c6-5a44-4e62-a213-40a25f134ce3"
      },
      "outputs": [],
      "source": [
        "!pip install ydata_profiling"
      ]
    },
    {
      "cell_type": "code",
      "execution_count": null,
      "metadata": {},
      "outputs": [],
      "source": [
        "!pip install pandas==1.3.0"
      ]
    },
    {
      "cell_type": "code",
      "execution_count": null,
      "metadata": {
        "id": "LZDp6cKJpZH0"
      },
      "outputs": [],
      "source": [
        "# Importando bibliotecas\n",
        "\n",
        "import numpy as np\n",
        "import seaborn as sns\n",
        "from matplotlib import pyplot as plt\n",
        "#from ydata_profiling import ProfileReport\n",
        "\n",
        "\n",
        "\n",
        "\n",
        "#import warnings\n",
        "#warnings.filterwarnings('ignore')"
      ]
    },
    {
      "cell_type": "code",
      "execution_count": null,
      "metadata": {
        "colab": {
          "base_uri": "https://localhost:8080/"
        },
        "id": "xBdY7ocapZH1",
        "outputId": "eaab49a5-f0ef-4b37-d8dc-f979c1742cb2"
      },
      "outputs": [],
      "source": [
        "# Importando csv\n",
        "df_raw = pd.read_csv('dataset.csv')\n",
        "df_raw.info()"
      ]
    },
    {
      "cell_type": "markdown",
      "metadata": {
        "id": "SM7BTW4pNy4I"
      },
      "source": [
        "## Features Disponíveis\n",
        "\n",
        "- **track_id:** O identificador exclusivo do Spotify para a faixa.\n",
        "- **artists:** Nomes dos artistas que executaram a faixa.\n",
        "- **album_name:** O título do álbum que inclui a faixa.\n",
        "- **track_name:** O nome da faixa.\n",
        "- **popularity:** Uma pontuação de popularidade variando de 0 a 100, onde 100 indica a maior popularidade.\n",
        "- **duration_ms:** A duração da faixa em milissegundos.\n",
        "- **explicit:** Indica se a faixa contém letras explícitas (true = sim, contém; false = não, não contém, ou desconhecido).\n",
        "- **danceability:** Uma medida de quão adequada a faixa é para dançar, com valores entre 0,0 e 1,0.\n",
        "- **energy:** A energia é uma medida perceptual de intensidade e atividade, variando de 0,0 a 1,0.\n",
        "- **key:** A tonalidade musical da faixa, mapeada para a notação padrão de Classe de Altura (por exemplo, 0 = Dó, 1 = Dó♯/Ré♭, 2 = Ré e assim por diante). Se nenhuma tonalidade for detectada, o valor é -1.\n",
        "- **loudness:** A intensidade geral da faixa em decibéis (dB).\n",
        "- **mode:** Indica a modalidade da faixa (maior = 1, menor = 0).\n",
        "- **speechiness:** Detecta a presença de palavras faladas na faixa, com valores entre 0 e 1.\n",
        "- **acousticness:** Uma medida de confiança (0,0 a 1,0) indicando se a faixa é acústica (1,0 representa alta confiança na natureza acústica).\n",
        "- **instrumentalness:** Prevê se uma faixa contém vocais (valores mais próximos de 1,0 sugerem ausência de conteúdo vocal).\n",
        "- **liveness:** Detecta a presença de uma plateia na gravação, com valores entre 0,0 e 1,0.\n",
        "- **valence:** Uma medida (0,0 a 1,0) descrevendo a positividade musical transmitida pela faixa.\n",
        "- **tempo:** O tempo estimado da faixa em batidas por minuto (BPM).\n",
        "- **time_signature:** Uma notação que especifica o número de batidas em cada compasso ou medida.\n",
        "- **track_genre:** O gênero ao qual a faixa pertence.\n",
        "\n",
        "\n"
      ]
    },
    {
      "cell_type": "code",
      "execution_count": null,
      "metadata": {
        "id": "JKLwhOxhQXdo"
      },
      "outputs": [],
      "source": [
        "df_raw.drop(columns = 'Unnamed: 0', axis = 1, inplace = True)"
      ]
    },
    {
      "cell_type": "code",
      "execution_count": null,
      "metadata": {
        "id": "QarBTd0P2S9T"
      },
      "outputs": [],
      "source": [
        "dataset = df_raw.copy()"
      ]
    },
    {
      "cell_type": "code",
      "execution_count": null,
      "metadata": {
        "colab": {
          "base_uri": "https://localhost:8080/"
        },
        "id": "1BDrFF9KpZH2",
        "outputId": "c6754dd3-00bd-454f-cc9e-68ae8837d67a"
      },
      "outputs": [],
      "source": [
        "# Verificando nulos\n",
        "\n",
        "dataset.isna().sum()"
      ]
    },
    {
      "cell_type": "code",
      "execution_count": null,
      "metadata": {
        "colab": {
          "base_uri": "https://localhost:8080/",
          "height": 347
        },
        "id": "v-n7XWPOpZH2",
        "outputId": "8bdc430c-363f-43e0-9cb9-7961e661f8d5"
      },
      "outputs": [],
      "source": [
        "dataset.head()"
      ]
    },
    {
      "cell_type": "markdown",
      "metadata": {
        "id": "32rUOMQe8rsw"
      },
      "source": [
        "Tendo em vista que temos apenas 2 nulos dentre 114 mil entradas, podemos dropar esses dados\n"
      ]
    },
    {
      "cell_type": "code",
      "execution_count": null,
      "metadata": {
        "colab": {
          "base_uri": "https://localhost:8080/"
        },
        "id": "r8zKiH3fpZH2",
        "outputId": "0cdb6d04-a453-4ec7-da95-8e5c9cbf2409"
      },
      "outputs": [],
      "source": [
        "dataset.dropna(inplace=True)\n",
        "dataset.shape"
      ]
    },
    {
      "cell_type": "markdown",
      "metadata": {
        "id": "ol6JchpdpZH2"
      },
      "source": [
        "Verificando número de ids únicas para músicas. (Identificando e removendo duplicatas)"
      ]
    },
    {
      "cell_type": "code",
      "execution_count": null,
      "metadata": {
        "colab": {
          "base_uri": "https://localhost:8080/"
        },
        "id": "ICW2FTVdpZH2",
        "outputId": "5bd77be6-287c-4c3d-e3a1-a9ec4f67ae74"
      },
      "outputs": [],
      "source": [
        "dataset['track_id'].nunique()"
      ]
    },
    {
      "cell_type": "code",
      "execution_count": null,
      "metadata": {
        "colab": {
          "base_uri": "https://localhost:8080/"
        },
        "id": "114mLHgGRJMU",
        "outputId": "402ecffc-851f-4bb4-f665-04308b4c3079"
      },
      "outputs": [],
      "source": [
        "duplicated = dataset[dataset['track_id'].duplicated(keep = False)]\n",
        "print(duplicated.shape)\n",
        "duplicated.groupby('track_id')['track_id'].count()"
      ]
    },
    {
      "cell_type": "markdown",
      "metadata": {
        "id": "bXp0BgLPRUO4"
      },
      "source": [
        "O dataframe tem 114.000 linhas e temos apenas 89.741 track_ids exclusivos, o que significa que há cerca de 24.259 valores duplicados no conjunto de dados. Ao investigar mais, descobrimos que havia 16.642 músicas diferentes ocorrendo várias vezes. Precisamos removê-los e limpar os dados para análise posterior."
      ]
    },
    {
      "cell_type": "code",
      "execution_count": null,
      "metadata": {
        "colab": {
          "base_uri": "https://localhost:8080/"
        },
        "id": "InCkQlmepZH3",
        "outputId": "660f017d-a1a7-4b16-e4db-0a8c5ed0fe04"
      },
      "outputs": [],
      "source": [
        "dataset = dataset[dataset['track_id'].duplicated(keep = 'first') == False]\n",
        "dataset.shape"
      ]
    },
    {
      "cell_type": "code",
      "execution_count": null,
      "metadata": {
        "id": "D2XJ21KW7E2w"
      },
      "outputs": [],
      "source": [
        "dataset.drop('track_id', axis = 1, inplace = True )"
      ]
    },
    {
      "cell_type": "markdown",
      "metadata": {
        "id": "R5HJLEmXuW6h"
      },
      "source": [
        "## EDA\n",
        "\n",
        "pandas-profiling"
      ]
    },
    {
      "cell_type": "code",
      "execution_count": null,
      "metadata": {
        "id": "oQlTKjD9SPdk"
      },
      "outputs": [],
      "source": [
        "profile = ProfileReport(dataset, title=\"Profiling Report\")"
      ]
    },
    {
      "cell_type": "code",
      "execution_count": null,
      "metadata": {
        "colab": {
          "base_uri": "https://localhost:8080/",
          "height": 918,
          "referenced_widgets": [
            "985b43d47b5a45948946c65b1132ccd2",
            "b34a85e9ff3745999abbc258d2732459",
            "95d4b145969a48bb8f11fb0fa3a1a88d",
            "b6e7178c9a1a4659b151cab1d902acd2",
            "839724a0685748439fa61baecbfb6d6d",
            "0e820c13f2f244888c9092938031a82a",
            "3e2667e44ebf408ea70a3f3160632d7c",
            "d15003defdaf4f52bc2bc4d22718c4d5",
            "0e1df984ef864c459cf16a13f20b352b",
            "02ba80d42783486d8179d791d137a998",
            "5e2a631dd5f3462294cf51f122f8dbd0",
            "e3caf55ee5ce4cdd882f7fbc87b489ca",
            "d419070d0ec3412ba6079bfef99c491f",
            "d2bab4ef2238408c94c45ba0c5b44f73",
            "f7ad494f1f7d4214bc7c015b39c7d5bf",
            "d9fd587d95a748c19eebd560043d3444",
            "30a15c81048940629efa71d5e32c9ca8",
            "3977223d5856405c926157d58b7f01b3",
            "082fc80576c14414b7675b9b6298692c",
            "155ae89edeef4190951c011a7d9515f2",
            "ddd78ec6306a4df1911ce419d8d8eb85",
            "a7d839ba80524cae83c0f26ddb66e455",
            "750e21e888a24e3f832d254322b72d16",
            "ea87a862b97541f69faa952ddb6fa34e",
            "9183b2aa3f074b2b8e63f7a0604deb1b",
            "9bb7c030415a4262969af93764807799",
            "bde25149f2684c7ab4ed7d5b68cd4220",
            "36dc82d8b4164e68b06cdc4d0997f8ca",
            "39f5cbd19b404b8b80dbf14e977bb662",
            "df3d858948314167b25878b2a8ced6f1",
            "ae29fd5957764d7cb791cbc84ac77789",
            "75fc07007681484e92f78514055b908e",
            "dd781203f6244df28819fa2d5f30bdd3"
          ]
        },
        "id": "HBbhO4kKSPba",
        "outputId": "60de595e-6244-43d1-8e39-5eae9ed4db9a"
      },
      "outputs": [],
      "source": [
        "profile"
      ]
    },
    {
      "cell_type": "markdown",
      "metadata": {
        "id": "GenTxbf7pZH3"
      },
      "source": [
        "## Feature Engineering\n",
        "\n",
        "Precisamos normalizar os dados. Todas as entradas estão entre 0 e 1, exceto *duration_ms*, *tempo* e *time_signature*. O maior problema é *duration_ms* que está em Milissegundos, variando então entre 8586ms e 5237295ms. Vamos trazer a duração para minutos."
      ]
    },
    {
      "cell_type": "markdown",
      "metadata": {
        "id": "xwbWJp687Q6A"
      },
      "source": [
        "Foi possivel observar Alta dependencia linear entre (Energy + Loudness) e (Energy + Acousticness), Resolvemos retirar a coluna Energy para diminuir a correlação entre as features  "
      ]
    },
    {
      "cell_type": "code",
      "execution_count": null,
      "metadata": {
        "id": "3RQWAJrF7QYg"
      },
      "outputs": [],
      "source": [
        "dataset.drop('energy', axis = 1, inplace = True)"
      ]
    },
    {
      "cell_type": "code",
      "execution_count": null,
      "metadata": {
        "id": "mF-j5z8G6nHx"
      },
      "outputs": [],
      "source": [
        "dataset = dataset[['artists', 'popularity', 'danceability',\n",
        "                  'loudness', 'speechiness', 'acousticness',\n",
        "                  'instrumentalness', 'liveness', 'valence',\n",
        "                  'tempo', 'track_genre', 'duration_ms']]"
      ]
    },
    {
      "cell_type": "code",
      "execution_count": null,
      "metadata": {
        "colab": {
          "base_uri": "https://localhost:8080/"
        },
        "id": "d1u_RIHo6pF3",
        "outputId": "5aaa6b17-c87a-4540-e1ad-ac09106ca623"
      },
      "outputs": [],
      "source": [
        "dataset = dataset.convert_dtypes()\n",
        "dataset.dtypes"
      ]
    },
    {
      "cell_type": "markdown",
      "metadata": {
        "id": "9dKMNRQo8Esp"
      },
      "source": [
        "Passando Duração para minutos"
      ]
    },
    {
      "cell_type": "code",
      "execution_count": null,
      "metadata": {
        "id": "0I5-JR2LpZH3"
      },
      "outputs": [],
      "source": [
        "dataset['duration_minutes'] = dataset['duration_ms'] / 60000\n",
        "dataset.drop('duration_ms', axis = 1, inplace = True)"
      ]
    },
    {
      "cell_type": "markdown",
      "metadata": {
        "id": "-MrAJ_RHpZH4"
      },
      "source": [
        "## Lidando com outliers e filtrando dados não relevantes\n",
        "Speechiness é uma medida de quão falada uma faixa é. Faixas acima de 0.6 são praticamente podcasts e talk-shows."
      ]
    },
    {
      "cell_type": "code",
      "execution_count": null,
      "metadata": {
        "id": "fkFM_dACpZH4"
      },
      "outputs": [],
      "source": [
        "index = dataset[dataset['speechiness'] > 0.6].index\n",
        "dataset.drop(index, inplace=True)"
      ]
    },
    {
      "cell_type": "markdown",
      "metadata": {
        "id": "WbiVrshCpZH4"
      },
      "source": [
        "Algumas músicas tem tempo em 0 BPM, o que não faz sentido pra nossa análise. Drop neles."
      ]
    },
    {
      "cell_type": "code",
      "execution_count": null,
      "metadata": {
        "id": "_pSvgR4gpZH4"
      },
      "outputs": [],
      "source": [
        "index = dataset[dataset['tempo'] == 0].index\n",
        "dataset.drop(index, inplace=True)"
      ]
    },
    {
      "cell_type": "markdown",
      "metadata": {
        "id": "8VTZQlChpZH4"
      },
      "source": [
        "Desconsideramos faixas zeradas ou com duração superior a 25 minutos."
      ]
    },
    {
      "cell_type": "code",
      "execution_count": null,
      "metadata": {
        "id": "VDgpQQdOpZH4"
      },
      "outputs": [],
      "source": [
        "index = dataset[(dataset['duration_minutes'] == 0) | (dataset['duration_minutes'] > 20)].index\n",
        "dataset.drop(index, inplace=True)"
      ]
    },
    {
      "cell_type": "markdown",
      "metadata": {
        "id": "4TJAWEKc8bhY"
      },
      "source": [
        "## Estatística Descritiva\n",
        "Variáveis Numéricas"
      ]
    },
    {
      "cell_type": "code",
      "execution_count": null,
      "metadata": {
        "colab": {
          "base_uri": "https://localhost:8080/",
          "height": 383
        },
        "id": "wjye-7Hq8bOc",
        "outputId": "590350d1-2bdd-4f28-839d-3dd257bfc180"
      },
      "outputs": [],
      "source": [
        "dataset.describe().T"
      ]
    },
    {
      "cell_type": "markdown",
      "metadata": {
        "id": "OehTlSMW81oE"
      },
      "source": [
        "Variáveis Categóricas"
      ]
    },
    {
      "cell_type": "code",
      "execution_count": null,
      "metadata": {
        "colab": {
          "base_uri": "https://localhost:8080/",
          "height": 175
        },
        "id": "ZBPiL6ZE8bLz",
        "outputId": "fd00bd29-e212-4da6-c4b5-e6ab003aa3c5"
      },
      "outputs": [],
      "source": [
        "dataset.describe(include= 'string')"
      ]
    },
    {
      "cell_type": "code",
      "execution_count": null,
      "metadata": {
        "colab": {
          "base_uri": "https://localhost:8080/"
        },
        "id": "Di6uZg8D8bFW",
        "outputId": "32613c3b-0b92-4321-daa2-52b4acf10d2c"
      },
      "outputs": [],
      "source": [
        "dataset['artists'].value_counts()"
      ]
    },
    {
      "cell_type": "markdown",
      "metadata": {
        "id": "NZDZVRqW9yPX"
      },
      "source": [
        "Verificando Artistas com apenas uma música"
      ]
    },
    {
      "cell_type": "code",
      "execution_count": null,
      "metadata": {
        "colab": {
          "base_uri": "https://localhost:8080/"
        },
        "id": "jMyL8wzR9483",
        "outputId": "db76d74b-6e79-48a5-a0e1-b3f8a08171d3"
      },
      "outputs": [],
      "source": [
        "sum(dataset['artists'].value_counts() == 1)"
      ]
    },
    {
      "cell_type": "code",
      "execution_count": null,
      "metadata": {
        "colab": {
          "base_uri": "https://localhost:8080/"
        },
        "id": "rl4qoy5k9JhD",
        "outputId": "b0e7932e-475a-4e27-f091-c0b872bd8ea5"
      },
      "outputs": [],
      "source": [
        "dataset['track_genre'].value_counts()"
      ]
    },
    {
      "cell_type": "markdown",
      "metadata": {
        "id": "fVPidHE8pZH5"
      },
      "source": [
        "## Usando standart scaler para normalização dos dados"
      ]
    },
    {
      "cell_type": "code",
      "execution_count": null,
      "metadata": {
        "colab": {
          "base_uri": "https://localhost:8080/"
        },
        "id": "GSrM8BNspZH5",
        "outputId": "e33622b6-db9e-4d7b-bccc-4c659398d354"
      },
      "outputs": [],
      "source": [
        "dataset.columns"
      ]
    },
    {
      "cell_type": "markdown",
      "metadata": {
        "id": "ckh6moas4pwF"
      },
      "source": [
        "Escalando features Numéricas"
      ]
    },
    {
      "cell_type": "code",
      "execution_count": null,
      "metadata": {
        "colab": {
          "base_uri": "https://localhost:8080/"
        },
        "id": "avJX-1ROD54i",
        "outputId": "50a9c022-0349-4469-e22b-256c28327ece"
      },
      "outputs": [],
      "source": [
        "dataset.info()"
      ]
    },
    {
      "cell_type": "code",
      "execution_count": null,
      "metadata": {
        "colab": {
          "base_uri": "https://localhost:8080/"
        },
        "id": "10DlRkdO3EcX",
        "outputId": "6900339c-6a70-435f-aa7c-c1d9e8d31811"
      },
      "outputs": [],
      "source": [
        "num_cols = dataset.select_dtypes(include = 'float').columns\n",
        "num_cols"
      ]
    },
    {
      "cell_type": "code",
      "execution_count": null,
      "metadata": {
        "colab": {
          "base_uri": "https://localhost:8080/",
          "height": 226
        },
        "id": "YrcPG3GP3K-k",
        "outputId": "b1cf843a-830e-481d-b627-d2c6d706a904"
      },
      "outputs": [],
      "source": [
        "num_df = dataset[num_cols]\n",
        "num_df.head()"
      ]
    },
    {
      "cell_type": "code",
      "execution_count": null,
      "metadata": {
        "id": "0M6g_BMVpZH5"
      },
      "outputs": [],
      "source": [
        "from sklearn.preprocessing import StandardScaler\n",
        "\n",
        "ss = StandardScaler()\n",
        "ss.fit(num_df)\n",
        "\n",
        "scaled = ss.fit_transform(num_df)\n",
        "scaled_dataset = pd.DataFrame(scaled, columns = num_df.columns)"
      ]
    },
    {
      "cell_type": "code",
      "execution_count": null,
      "metadata": {
        "colab": {
          "base_uri": "https://localhost:8080/"
        },
        "id": "eiea1mtzpZH5",
        "outputId": "615ce184-0678-4aa0-b2f6-8301ccf0526e"
      },
      "outputs": [],
      "source": [
        "dataset = dataset.drop(columns=num_df.columns, axis = 1)\n",
        "dataset.reset_index(drop=True, inplace=True)\n",
        "scaled_dataset.reset_index(drop=True, inplace=True)\n",
        "\n",
        "dataset.shape, scaled_dataset.shape"
      ]
    },
    {
      "cell_type": "code",
      "execution_count": null,
      "metadata": {
        "colab": {
          "base_uri": "https://localhost:8080/"
        },
        "id": "I8g5SyCgpZH5",
        "outputId": "0a405c60-e4fa-42b6-be1a-471132134c59"
      },
      "outputs": [],
      "source": [
        "dataset = pd.concat([dataset, scaled_dataset], axis = 1)\n",
        "dataset.shape"
      ]
    },
    {
      "cell_type": "code",
      "execution_count": null,
      "metadata": {
        "colab": {
          "base_uri": "https://localhost:8080/",
          "height": 383
        },
        "id": "E0EIsnfUpZH5",
        "outputId": "b8538a74-7bca-4d22-bfa9-8ebf1bddba5e"
      },
      "outputs": [],
      "source": [
        "dataset.describe().T"
      ]
    },
    {
      "cell_type": "markdown",
      "metadata": {
        "id": "GPzwN6e74kz8"
      },
      "source": [
        "Encodando Features Categóricas"
      ]
    },
    {
      "cell_type": "code",
      "execution_count": null,
      "metadata": {
        "id": "SjxLqXTl4lFJ"
      },
      "outputs": [],
      "source": [
        "from sklearn.preprocessing import LabelEncoder\n",
        "encoder = LabelEncoder()"
      ]
    },
    {
      "cell_type": "code",
      "execution_count": null,
      "metadata": {
        "id": "Ccm7cZtA4lDd"
      },
      "outputs": [],
      "source": [
        "col = dataset['artists']\n",
        "encoder.fit(col)\n",
        "encoded_col = encoder.transform(col)\n",
        "dataset['artist'] = encoded_col"
      ]
    },
    {
      "cell_type": "code",
      "execution_count": null,
      "metadata": {
        "id": "jHAewJCV5sIp"
      },
      "outputs": [],
      "source": [
        "col = dataset['track_genre']\n",
        "\n",
        "encoder.fit(col)\n",
        "\n",
        "encoded_col = encoder.transform(col)\n",
        "\n",
        "dataset['genre'] = encoded_col"
      ]
    },
    {
      "cell_type": "code",
      "execution_count": null,
      "metadata": {
        "colab": {
          "base_uri": "https://localhost:8080/",
          "height": 445
        },
        "id": "4itKGQLyfSDS",
        "outputId": "3682ae93-9961-4cdb-8e50-2f29db481038"
      },
      "outputs": [],
      "source": [
        "dataset.describe().T"
      ]
    },
    {
      "cell_type": "markdown",
      "metadata": {
        "id": "E9VgE48mgMOC"
      },
      "source": []
    },
    {
      "cell_type": "markdown",
      "metadata": {
        "id": "prY-VTEApZH6"
      },
      "source": [
        "## Regressão Linear"
      ]
    },
    {
      "cell_type": "code",
      "execution_count": null,
      "metadata": {
        "id": "uOW5lyPv46Cu"
      },
      "outputs": [],
      "source": [
        "from sklearn.model_selection import train_test_split, KFold\n",
        "\n",
        "from sklearn.linear_model import LinearRegression as linreg\n",
        "from sklearn.neighbors import KNeighborsRegressor as KNN\n",
        "from sklearn.tree import DecisionTreeRegressor\n",
        "\n",
        "from sklearn.metrics import mean_squared_error as MSE"
      ]
    },
    {
      "cell_type": "code",
      "execution_count": null,
      "metadata": {
        "id": "qsxPrsDj4rje"
      },
      "outputs": [],
      "source": [
        "X = dataset.drop(columns = ['popularity', 'artists', 'track_genre'], axis = 1)\n",
        "y = dataset['popularity']"
      ]
    },
    {
      "cell_type": "code",
      "execution_count": null,
      "metadata": {
        "id": "lq8ZIHVjpZIB"
      },
      "outputs": [],
      "source": [
        "Xtrain, Xtest, ytrain, ytest = train_test_split(X, y, random_state=1234)"
      ]
    },
    {
      "cell_type": "code",
      "execution_count": null,
      "metadata": {
        "id": "v4AfYkXe5Jop"
      },
      "outputs": [],
      "source": [
        "lin_reg = linreg()\n",
        "\n",
        "lin_reg.fit(Xtrain, ytrain)\n",
        "\n",
        "y_pred_train = lin_reg.predict(Xtrain)\n",
        "y_pred = lin_reg.predict(Xtest)"
      ]
    },
    {
      "cell_type": "markdown",
      "metadata": {
        "id": "qOqXwkuF2Okg"
      },
      "source": [
        "Vamos agora calcular a perda entre os valores alvo reais no conjunto de teste e os valores previstos pelo modelo com o uso de uma função de custo chamada Root Mean Square Error (RMSE)."
      ]
    },
    {
      "cell_type": "markdown",
      "metadata": {
        "id": "T9tmlH642MJP"
      },
      "source": [
        "![rmse.webp](data:image/webp;base64,UklGRrYFAABXRUJQVlA4WAoAAAAYAAAA5QAAPwAAQUxQSBAEAAABoFRtWyVJeiX8GpCABiSgAQl4YDXrX8FcQgIakIAGJPyLIAgyujr6MjPnRMQE8MXHelb7/n91KvwQ/4+HZPUpp/dVnxYZCdfe159PQwbE433p46LCEX8IJDT3AU0wyD8APkf7RBXQ5H4AQD7y1v+9VJ9iZqNfD5vrj0c2U5bF524m70mfQjWLS+cw8juTC2f+QhZk2HB3kHYh34bMQs6H+67EMHHarKmfJH+FN2u38GESw7eR/MkphDFxOobqUfPE6TCZuTHUT1LJOcQAeB1DS9E60sN8YafKFdms3Jr7wpN9cxeoAL6DmJxgFIB+nKBYmCWLTGsAkgnnoZxzfFhlqzsWqGZhT+XJsYj6C3cwD4Ops3A6bCJppEmMJpOsnBtnZ2ES/LOC7qHKggwbsiPooxzgLqgyq3GWjPNok+hqOblQOtNWJnmSTMBDkGdp2JTTAsGs7dDwqJs5TUpiXtupdJkU9Dglms7qiKd5bUDhqQudzb6uUMzKhs45pAMI+TMhHUDIV76eYsTNrMZUNDEv5A4EweLMD7OWLkYv2pa0LqYPyNglY4lmFm7JOElmeKifkczwUBdkACEhZeLNg+9+JoloIIFgMoOow9LEW0BKWPnwH8xd34WtybAhd1w/BXEGmAdftwVxBpgHX08YODOzPskGcNRZdDgTEpTOcjsm2YAk4J+hMvNtZqsXskQ0C3d8O0E5wBuAzEJdlAmUA7wByExYrvXU2qwA5oODphMXJkUntTEND3N9ttG42TN3XZ/1CLmePtkj5HqaG+uWT3asjBQBi5McJ81PrMyUy6Mu5g/I2DZu6MFtGTNzUDNklQ+Yg5ohq0zGWjQ/UaIDn4BWgWAyqfVUMmdvYaLpanO5xTZf13Jl45XgzBOl+k8IzjxRqj/5uiJFtSQg1RQRHT1DcTjtpuGkoqVoAHDa7ShFjzH4bLZ7GjaltBS77NAwSZrUABl8MGlSA2RwTmnliy4WbgXdVGXFD8fOoBOgHEAqnwDKAaQyqfLVJfpxi7bHHSy64dnbTi3C8EDzaV+LMDzQfALcwVcfyHbPly2HLEiP3A7h5AtQBc0AJYV9VdAMUFIADvnywFm4RQwbUmCxZW67xjQGSKlEPp5SiSymwPewH/eQU8pJUjr8RFg8lNtxlBnCNyl8F8vYcJboLUOqk9VSWRXnYxlm7uLNOgt7AqkD5bgTbWvjDXfdA0cBWr6Ty9bwisrYNQKIuTsv3lnY40wgNeKPAl33pA5oIf8wlLGnZMCXxA+js7Dlg77eCe0l0fVZyI3o7S2V8bD7r8lbeFJWeWt0fVCU6hG9zO+qjAchg9vvyVt4UCrvja4Paj4hepkn8prKeFBJgfVQTONb8taf8+67/RiVHyT/g8T4QfK8RVZQOCC+AAAAUA4AnQEq5gBAAD5dJI1Fo6IhHE+kADgFxLSBcAH4AfoB/AAfdv0A/gH4AfoB+fvf4bnjHxakoZrbT8aayDX2LAp5bOhgb7QaTIVeIFcDleGd3wEFtbUd1b2B+nGqZ9B+W4xAjyBtPQgr8wiJUpcsrBMLIR9N4B5vaTBAAP78ShWhf//LlF1VM4/zkJ/Od2pSbZkgYHztbYbvzvD87VIDFsY3P6v2HzinH6dZuO+fznt/92Zw9/OO1/nxeAAAAEVYSUa6AAAARXhpZgAASUkqAAgAAAAGABIBAwABAAAAAQAAABoBBQABAAAAVgAAABsBBQABAAAAXgAAACgBAwABAAAAAgAAABMCAwABAAAAAQAAAGmHBAABAAAAZgAAAAAAAABIAAAAAQAAAEgAAAABAAAABgAAkAcABAAAADAyMTABkQcABAAAAAECAwAAoAcABAAAADAxMDABoAMAAQAAAP//AAACoAQAAQAAAOYAAAADoAQAAQAAAEAAAAAAAAAA)"
      ]
    },
    {
      "cell_type": "code",
      "execution_count": null,
      "metadata": {
        "colab": {
          "base_uri": "https://localhost:8080/"
        },
        "id": "iiKQnKZW2VI6",
        "outputId": "342b9869-0bfe-4ce1-9b55-8991dcf5b13f"
      },
      "outputs": [],
      "source": [
        "mse_y_train = MSE(y_pred_train, ytrain)\n",
        "mse_y_test = MSE(y_pred, ytest)\n",
        "\n",
        "print('Referencia train RMSE:', np.sqrt(mse_y_train))\n",
        "print('Referencia test RMSE:', np.sqrt(mse_y_test))"
      ]
    },
    {
      "cell_type": "markdown",
      "metadata": {
        "id": "mtEMeDlx1_Kz"
      },
      "source": [
        "O RMSE de um modelo determina o ajuste absoluto do modelo aos dados. Em outras palavras, indica o quão próximos os pontos de dados reais estão dos valores previstos do modelo. Um valor baixo de RMSE indica um melhor ajuste e é uma boa medida para determinar a precisão das previsões do modelo."
      ]
    },
    {
      "cell_type": "markdown",
      "metadata": {
        "id": "ZA7OOMQ68E1j"
      },
      "source": [
        "## Checando Linearidade dos dados para validação do modelo de Regressão"
      ]
    },
    {
      "cell_type": "code",
      "execution_count": null,
      "metadata": {
        "colab": {
          "base_uri": "https://localhost:8080/",
          "height": 423
        },
        "id": "ztShx0KD71Ex",
        "outputId": "08f9145f-cf98-4da3-893c-4a318bfcfa4b"
      },
      "outputs": [],
      "source": [
        "residual_matrix = pd.DataFrame({'Pred': y_pred_train, 'Actual': ytrain})\n",
        "residual_matrix['Residuals'] = residual_matrix['Pred'] - residual_matrix['Actual']\n",
        "residual_matrix"
      ]
    },
    {
      "cell_type": "code",
      "execution_count": null,
      "metadata": {
        "colab": {
          "base_uri": "https://localhost:8080/",
          "height": 333
        },
        "id": "QgbZF1bk71CQ",
        "outputId": "6517cfc2-8a8d-406c-ac61-62fc9ee31419"
      },
      "outputs": [],
      "source": [
        "plt.figure(figsize = (3,3), dpi = 100)\n",
        "sns.histplot(residual_matrix['Residuals'], fill = True)\n",
        "plt.xlabel('Residual')\n",
        "plt.title('Residual Distribution')\n",
        "plt.show()"
      ]
    },
    {
      "cell_type": "markdown",
      "metadata": {
        "id": "4tBM2_HB8fhf"
      },
      "source": [
        "A distribuição de Resíduos NÃO É NORMAL. Evitaremos a regressão linear.\n",
        "\n",
        "https://medium.com/@lauradamaceno/entendendo-regress%C3%A3o-linear-as-suposi%C3%A7%C3%B5es-por-tr%C3%A1s-de-tudo-d0e29004c7f8"
      ]
    },
    {
      "cell_type": "markdown",
      "metadata": {
        "id": "BgWlVu1R8q9w"
      },
      "source": [
        "## Fold Cross Validation Modeling"
      ]
    },
    {
      "cell_type": "code",
      "execution_count": null,
      "metadata": {
        "id": "VrJIzqBy707C"
      },
      "outputs": [],
      "source": [
        "def cv_score(ml_model, cols):\n",
        "    i = 1\n",
        "    rmse_score = []\n",
        "    X1 = X[cols]\n",
        "\n",
        "    kf = KFold(n_splits = 5, random_state = 42, shuffle = True)\n",
        "\n",
        "    for train_index, test_index in kf.split(X1):\n",
        "        xtr, xval = X1.loc[train_index], X1.loc[test_index]\n",
        "        ytr, yval = y.loc[train_index], y.loc[test_index]\n",
        "\n",
        "        model = ml_model\n",
        "        model.fit(xtr, ytr)\n",
        "        pred_value = model.predict(xval)\n",
        "\n",
        "        mse = MSE(pred_value, yval)\n",
        "        rmse = np.sqrt(mse)\n",
        "        print('\\n for {} of KFold{}, RMSE Score is:  {}'.format(i, kf.n_splits, rmse))\n",
        "\n",
        "        rmse_score.append(rmse)\n",
        "        i+=1\n",
        "\n",
        "    return rmse_score, pred_value, yval"
      ]
    },
    {
      "cell_type": "markdown",
      "metadata": {
        "id": "_eszFDSW93bb"
      },
      "source": [
        "## Decision Tree: Sem validação"
      ]
    },
    {
      "cell_type": "code",
      "execution_count": null,
      "metadata": {
        "id": "kJHkfzuC704o"
      },
      "outputs": [],
      "source": [
        "tree_model = DecisionTreeRegressor(min_samples_leaf = 25, min_samples_split = 25)"
      ]
    },
    {
      "cell_type": "code",
      "execution_count": null,
      "metadata": {
        "id": "M6Sz0sCZ702K"
      },
      "outputs": [],
      "source": [
        "xtr, xtest, ytr, ytest = train_test_split(X,y, test_size = 0.33, random_state = 423)"
      ]
    },
    {
      "cell_type": "code",
      "execution_count": null,
      "metadata": {
        "colab": {
          "base_uri": "https://localhost:8080/"
        },
        "id": "fyBfPpkR70yn",
        "outputId": "344a5d7e-b592-4c28-f717-28d876ca9b7f"
      },
      "outputs": [],
      "source": [
        "tree_model.fit(xtr, ytr)\n",
        "\n",
        "train_preds = tree_model.predict(xtr)\n",
        "test_preds = tree_model.predict(xtest)\n",
        "\n",
        "train_mse = MSE(train_preds, ytr)\n",
        "test_mse = MSE(test_preds, ytest)\n",
        "\n",
        "np.sqrt(train_mse), np.sqrt(test_mse)"
      ]
    },
    {
      "cell_type": "markdown",
      "metadata": {
        "id": "0dEx2zkJGeFb"
      },
      "source": [
        "## Cross Validated Decision Tree"
      ]
    },
    {
      "cell_type": "code",
      "execution_count": null,
      "metadata": {
        "colab": {
          "base_uri": "https://localhost:8080/"
        },
        "id": "cayHEliM70sW",
        "outputId": "4807424c-f575-4a4d-d3c1-d627f1838065"
      },
      "outputs": [],
      "source": [
        "cv_dt, y_pred_value5, yval5 = cv_score(tree_model, cols = X.columns)\n",
        "cv_dt"
      ]
    },
    {
      "cell_type": "code",
      "execution_count": null,
      "metadata": {
        "colab": {
          "base_uri": "https://localhost:8080/",
          "height": 140
        },
        "id": "2E3XXdE1h8U-",
        "outputId": "2f2f43ba-0175-40ce-eea3-00277f0428ec"
      },
      "outputs": [],
      "source": [
        "from sklearn.feature_selection import RFE\n",
        "\n",
        "model = tree_model\n",
        "rfe = RFE(estimator = model, n_features_to_select = 1, step = 1)\n",
        "rfe.fit(X,y)"
      ]
    },
    {
      "cell_type": "code",
      "execution_count": null,
      "metadata": {
        "id": "bxSx354giACE"
      },
      "outputs": [],
      "source": [
        "ranking_df = pd.DataFrame()\n",
        "ranking_df['Feature'] = X.columns\n",
        "ranking_df['Rank'] = rfe.ranking_"
      ]
    },
    {
      "cell_type": "code",
      "execution_count": null,
      "metadata": {
        "colab": {
          "base_uri": "https://localhost:8080/",
          "height": 394
        },
        "id": "ObVCpcXhIKr3",
        "outputId": "a4ee461f-badf-4de4-f8ed-e93b1f6f81f6"
      },
      "outputs": [],
      "source": [
        "ranked = ranking_df.sort_values(by = 'Rank')\n",
        "ranked"
      ]
    },
    {
      "cell_type": "code",
      "execution_count": null,
      "metadata": {
        "colab": {
          "base_uri": "https://localhost:8080/"
        },
        "id": "PfWJT5PjIKpq",
        "outputId": "a35b06a3-fc7a-4a7d-a8fc-c1115c6d671c"
      },
      "outputs": [],
      "source": [
        "ranked['Feature'][:10].values"
      ]
    },
    {
      "cell_type": "code",
      "execution_count": null,
      "metadata": {
        "colab": {
          "base_uri": "https://localhost:8080/"
        },
        "id": "AfH9_QF2IKnS",
        "outputId": "7400796a-7c72-413f-cec7-1292c1f2fdac"
      },
      "outputs": [],
      "source": [
        "cv_dt_top10, pred_value_top10, yval_top10 = cv_score(tree_model, cols = ranked['Feature'][:10].values)\n",
        "cv_dt_top10"
      ]
    },
    {
      "cell_type": "markdown",
      "metadata": {
        "id": "dnzC2FQqJINO"
      },
      "source": [
        "Comparação"
      ]
    },
    {
      "cell_type": "code",
      "execution_count": null,
      "metadata": {
        "colab": {
          "base_uri": "https://localhost:8080/",
          "height": 206
        },
        "id": "-dt-vhsJIKBa",
        "outputId": "9c85586b-0839-4559-8670-d4a8454a77fb"
      },
      "outputs": [],
      "source": [
        "score_matrix = pd.DataFrame({'decision': cv_dt, 'decision10': cv_dt_top10})\n",
        "score_matrix"
      ]
    },
    {
      "cell_type": "code",
      "execution_count": null,
      "metadata": {
        "colab": {
          "base_uri": "https://localhost:8080/"
        },
        "id": "vVNdwuILJD94",
        "outputId": "1039cf03-9724-4896-be5f-cab7fbdb40f4"
      },
      "outputs": [],
      "source": [
        "pred_value_top10.shape"
      ]
    },
    {
      "cell_type": "code",
      "execution_count": null,
      "metadata": {
        "colab": {
          "base_uri": "https://localhost:8080/"
        },
        "id": "7gespVvUJEK4",
        "outputId": "9bf1f600-0479-40c3-d596-cffeb382757b"
      },
      "outputs": [],
      "source": [
        "yval_top10.shape"
      ]
    },
    {
      "cell_type": "markdown",
      "metadata": {
        "id": "14ZSK4YIFYqU"
      },
      "source": [
        "# CV_DecisionTreeReg x CV_DecisionTreeReg-REF"
      ]
    },
    {
      "cell_type": "code",
      "execution_count": null,
      "metadata": {
        "colab": {
          "base_uri": "https://localhost:8080/",
          "height": 303
        },
        "id": "dyDNrEFSC9Yh",
        "outputId": "3bc9ca7b-dd46-4d04-ff07-89df234f46b3"
      },
      "outputs": [],
      "source": [
        "score_matrix_melted = score_matrix.reset_index().melt(id_vars='index',\n",
        "                                                      var_name='Model',\n",
        "                                                      value_name='Value')\n",
        "\n",
        "# Set the style for the plot\n",
        "sns.set(style='whitegrid')\n",
        "\n",
        "# Create the bar plot\n",
        "plt.figure(figsize=(10, 3), dpi = 100)\n",
        "sns.barplot(data=score_matrix_melted, x='index', y='Value',\n",
        "            hue='Model', palette='muted')\n",
        "\n",
        "plt.xlabel('Folds')\n",
        "plt.ylabel('Values')\n",
        "plt.title('Comparison of Models')\n",
        "plt.legend(title='Models', loc='lower right', fontsize = 8)\n",
        "plt.show()"
      ]
    },
    {
      "cell_type": "markdown",
      "metadata": {
        "id": "J88ntqQfDl0V"
      },
      "source": [
        "# Plotando resultados"
      ]
    },
    {
      "cell_type": "code",
      "execution_count": null,
      "metadata": {
        "colab": {
          "base_uri": "https://localhost:8080/",
          "height": 727
        },
        "id": "wVd2mMj0pZIB",
        "outputId": "2e343738-f254-4856-f005-01dbb162cfc3"
      },
      "outputs": [],
      "source": [
        "\n",
        "fig = plt.figure(figsize =(8,8))\n",
        "\n",
        "l = plt.plot(pred_value_top10, yval_top10, 'bo')\n",
        "\n",
        "plt.setp(l, markersize=10)\n",
        "plt.setp(l, markerfacecolor='C0')\n",
        "\n",
        "plt.title('Comparação Valor Predito x Valor Real', fontsize=12)\n",
        "plt.ylabel(\"True Value\", fontsize=12)\n",
        "plt.xlabel(\"Predict Value\", fontsize=12)\n",
        "\n",
        "xl = np.arange(min(pred_value_top10), 1.2*max(pred_value_top10),\n",
        "               (max(pred_value_top10)-min(pred_value_top10))/10)\n",
        "yl = xl\n",
        "plt.plot(xl,yl,'r--')\n",
        "\n",
        "plt.show()"
      ]
    }
  ],
  "metadata": {
    "colab": {
      "provenance": []
    },
    "kernelspec": {
      "display_name": "Python 3",
      "language": "python",
      "name": "python3"
    },
    "language_info": {
      "codemirror_mode": {
        "name": "ipython",
        "version": 3
      },
      "file_extension": ".py",
      "mimetype": "text/x-python",
      "name": "python",
      "nbconvert_exporter": "python",
      "pygments_lexer": "ipython3",
      "version": "3.11.4"
    },
    "orig_nbformat": 4,
    "widgets": {
      "application/vnd.jupyter.widget-state+json": {
        "02ba80d42783486d8179d791d137a998": {
          "model_module": "@jupyter-widgets/base",
          "model_module_version": "1.2.0",
          "model_name": "LayoutModel",
          "state": {
            "_model_module": "@jupyter-widgets/base",
            "_model_module_version": "1.2.0",
            "_model_name": "LayoutModel",
            "_view_count": null,
            "_view_module": "@jupyter-widgets/base",
            "_view_module_version": "1.2.0",
            "_view_name": "LayoutView",
            "align_content": null,
            "align_items": null,
            "align_self": null,
            "border": null,
            "bottom": null,
            "display": null,
            "flex": null,
            "flex_flow": null,
            "grid_area": null,
            "grid_auto_columns": null,
            "grid_auto_flow": null,
            "grid_auto_rows": null,
            "grid_column": null,
            "grid_gap": null,
            "grid_row": null,
            "grid_template_areas": null,
            "grid_template_columns": null,
            "grid_template_rows": null,
            "height": null,
            "justify_content": null,
            "justify_items": null,
            "left": null,
            "margin": null,
            "max_height": null,
            "max_width": null,
            "min_height": null,
            "min_width": null,
            "object_fit": null,
            "object_position": null,
            "order": null,
            "overflow": null,
            "overflow_x": null,
            "overflow_y": null,
            "padding": null,
            "right": null,
            "top": null,
            "visibility": null,
            "width": null
          }
        },
        "082fc80576c14414b7675b9b6298692c": {
          "model_module": "@jupyter-widgets/base",
          "model_module_version": "1.2.0",
          "model_name": "LayoutModel",
          "state": {
            "_model_module": "@jupyter-widgets/base",
            "_model_module_version": "1.2.0",
            "_model_name": "LayoutModel",
            "_view_count": null,
            "_view_module": "@jupyter-widgets/base",
            "_view_module_version": "1.2.0",
            "_view_name": "LayoutView",
            "align_content": null,
            "align_items": null,
            "align_self": null,
            "border": null,
            "bottom": null,
            "display": null,
            "flex": null,
            "flex_flow": null,
            "grid_area": null,
            "grid_auto_columns": null,
            "grid_auto_flow": null,
            "grid_auto_rows": null,
            "grid_column": null,
            "grid_gap": null,
            "grid_row": null,
            "grid_template_areas": null,
            "grid_template_columns": null,
            "grid_template_rows": null,
            "height": null,
            "justify_content": null,
            "justify_items": null,
            "left": null,
            "margin": null,
            "max_height": null,
            "max_width": null,
            "min_height": null,
            "min_width": null,
            "object_fit": null,
            "object_position": null,
            "order": null,
            "overflow": null,
            "overflow_x": null,
            "overflow_y": null,
            "padding": null,
            "right": null,
            "top": null,
            "visibility": null,
            "width": null
          }
        },
        "0e1df984ef864c459cf16a13f20b352b": {
          "model_module": "@jupyter-widgets/controls",
          "model_module_version": "1.5.0",
          "model_name": "ProgressStyleModel",
          "state": {
            "_model_module": "@jupyter-widgets/controls",
            "_model_module_version": "1.5.0",
            "_model_name": "ProgressStyleModel",
            "_view_count": null,
            "_view_module": "@jupyter-widgets/base",
            "_view_module_version": "1.2.0",
            "_view_name": "StyleView",
            "bar_color": null,
            "description_width": ""
          }
        },
        "0e820c13f2f244888c9092938031a82a": {
          "model_module": "@jupyter-widgets/base",
          "model_module_version": "1.2.0",
          "model_name": "LayoutModel",
          "state": {
            "_model_module": "@jupyter-widgets/base",
            "_model_module_version": "1.2.0",
            "_model_name": "LayoutModel",
            "_view_count": null,
            "_view_module": "@jupyter-widgets/base",
            "_view_module_version": "1.2.0",
            "_view_name": "LayoutView",
            "align_content": null,
            "align_items": null,
            "align_self": null,
            "border": null,
            "bottom": null,
            "display": null,
            "flex": null,
            "flex_flow": null,
            "grid_area": null,
            "grid_auto_columns": null,
            "grid_auto_flow": null,
            "grid_auto_rows": null,
            "grid_column": null,
            "grid_gap": null,
            "grid_row": null,
            "grid_template_areas": null,
            "grid_template_columns": null,
            "grid_template_rows": null,
            "height": null,
            "justify_content": null,
            "justify_items": null,
            "left": null,
            "margin": null,
            "max_height": null,
            "max_width": null,
            "min_height": null,
            "min_width": null,
            "object_fit": null,
            "object_position": null,
            "order": null,
            "overflow": null,
            "overflow_x": null,
            "overflow_y": null,
            "padding": null,
            "right": null,
            "top": null,
            "visibility": null,
            "width": null
          }
        },
        "155ae89edeef4190951c011a7d9515f2": {
          "model_module": "@jupyter-widgets/controls",
          "model_module_version": "1.5.0",
          "model_name": "ProgressStyleModel",
          "state": {
            "_model_module": "@jupyter-widgets/controls",
            "_model_module_version": "1.5.0",
            "_model_name": "ProgressStyleModel",
            "_view_count": null,
            "_view_module": "@jupyter-widgets/base",
            "_view_module_version": "1.2.0",
            "_view_name": "StyleView",
            "bar_color": null,
            "description_width": ""
          }
        },
        "30a15c81048940629efa71d5e32c9ca8": {
          "model_module": "@jupyter-widgets/base",
          "model_module_version": "1.2.0",
          "model_name": "LayoutModel",
          "state": {
            "_model_module": "@jupyter-widgets/base",
            "_model_module_version": "1.2.0",
            "_model_name": "LayoutModel",
            "_view_count": null,
            "_view_module": "@jupyter-widgets/base",
            "_view_module_version": "1.2.0",
            "_view_name": "LayoutView",
            "align_content": null,
            "align_items": null,
            "align_self": null,
            "border": null,
            "bottom": null,
            "display": null,
            "flex": null,
            "flex_flow": null,
            "grid_area": null,
            "grid_auto_columns": null,
            "grid_auto_flow": null,
            "grid_auto_rows": null,
            "grid_column": null,
            "grid_gap": null,
            "grid_row": null,
            "grid_template_areas": null,
            "grid_template_columns": null,
            "grid_template_rows": null,
            "height": null,
            "justify_content": null,
            "justify_items": null,
            "left": null,
            "margin": null,
            "max_height": null,
            "max_width": null,
            "min_height": null,
            "min_width": null,
            "object_fit": null,
            "object_position": null,
            "order": null,
            "overflow": null,
            "overflow_x": null,
            "overflow_y": null,
            "padding": null,
            "right": null,
            "top": null,
            "visibility": null,
            "width": null
          }
        },
        "36dc82d8b4164e68b06cdc4d0997f8ca": {
          "model_module": "@jupyter-widgets/base",
          "model_module_version": "1.2.0",
          "model_name": "LayoutModel",
          "state": {
            "_model_module": "@jupyter-widgets/base",
            "_model_module_version": "1.2.0",
            "_model_name": "LayoutModel",
            "_view_count": null,
            "_view_module": "@jupyter-widgets/base",
            "_view_module_version": "1.2.0",
            "_view_name": "LayoutView",
            "align_content": null,
            "align_items": null,
            "align_self": null,
            "border": null,
            "bottom": null,
            "display": null,
            "flex": null,
            "flex_flow": null,
            "grid_area": null,
            "grid_auto_columns": null,
            "grid_auto_flow": null,
            "grid_auto_rows": null,
            "grid_column": null,
            "grid_gap": null,
            "grid_row": null,
            "grid_template_areas": null,
            "grid_template_columns": null,
            "grid_template_rows": null,
            "height": null,
            "justify_content": null,
            "justify_items": null,
            "left": null,
            "margin": null,
            "max_height": null,
            "max_width": null,
            "min_height": null,
            "min_width": null,
            "object_fit": null,
            "object_position": null,
            "order": null,
            "overflow": null,
            "overflow_x": null,
            "overflow_y": null,
            "padding": null,
            "right": null,
            "top": null,
            "visibility": null,
            "width": null
          }
        },
        "3977223d5856405c926157d58b7f01b3": {
          "model_module": "@jupyter-widgets/controls",
          "model_module_version": "1.5.0",
          "model_name": "DescriptionStyleModel",
          "state": {
            "_model_module": "@jupyter-widgets/controls",
            "_model_module_version": "1.5.0",
            "_model_name": "DescriptionStyleModel",
            "_view_count": null,
            "_view_module": "@jupyter-widgets/base",
            "_view_module_version": "1.2.0",
            "_view_name": "StyleView",
            "description_width": ""
          }
        },
        "39f5cbd19b404b8b80dbf14e977bb662": {
          "model_module": "@jupyter-widgets/controls",
          "model_module_version": "1.5.0",
          "model_name": "DescriptionStyleModel",
          "state": {
            "_model_module": "@jupyter-widgets/controls",
            "_model_module_version": "1.5.0",
            "_model_name": "DescriptionStyleModel",
            "_view_count": null,
            "_view_module": "@jupyter-widgets/base",
            "_view_module_version": "1.2.0",
            "_view_name": "StyleView",
            "description_width": ""
          }
        },
        "3e2667e44ebf408ea70a3f3160632d7c": {
          "model_module": "@jupyter-widgets/controls",
          "model_module_version": "1.5.0",
          "model_name": "DescriptionStyleModel",
          "state": {
            "_model_module": "@jupyter-widgets/controls",
            "_model_module_version": "1.5.0",
            "_model_name": "DescriptionStyleModel",
            "_view_count": null,
            "_view_module": "@jupyter-widgets/base",
            "_view_module_version": "1.2.0",
            "_view_name": "StyleView",
            "description_width": ""
          }
        },
        "5e2a631dd5f3462294cf51f122f8dbd0": {
          "model_module": "@jupyter-widgets/controls",
          "model_module_version": "1.5.0",
          "model_name": "DescriptionStyleModel",
          "state": {
            "_model_module": "@jupyter-widgets/controls",
            "_model_module_version": "1.5.0",
            "_model_name": "DescriptionStyleModel",
            "_view_count": null,
            "_view_module": "@jupyter-widgets/base",
            "_view_module_version": "1.2.0",
            "_view_name": "StyleView",
            "description_width": ""
          }
        },
        "750e21e888a24e3f832d254322b72d16": {
          "model_module": "@jupyter-widgets/controls",
          "model_module_version": "1.5.0",
          "model_name": "HBoxModel",
          "state": {
            "_dom_classes": [],
            "_model_module": "@jupyter-widgets/controls",
            "_model_module_version": "1.5.0",
            "_model_name": "HBoxModel",
            "_view_count": null,
            "_view_module": "@jupyter-widgets/controls",
            "_view_module_version": "1.5.0",
            "_view_name": "HBoxView",
            "box_style": "",
            "children": [
              "IPY_MODEL_ea87a862b97541f69faa952ddb6fa34e",
              "IPY_MODEL_9183b2aa3f074b2b8e63f7a0604deb1b",
              "IPY_MODEL_9bb7c030415a4262969af93764807799"
            ],
            "layout": "IPY_MODEL_bde25149f2684c7ab4ed7d5b68cd4220"
          }
        },
        "75fc07007681484e92f78514055b908e": {
          "model_module": "@jupyter-widgets/base",
          "model_module_version": "1.2.0",
          "model_name": "LayoutModel",
          "state": {
            "_model_module": "@jupyter-widgets/base",
            "_model_module_version": "1.2.0",
            "_model_name": "LayoutModel",
            "_view_count": null,
            "_view_module": "@jupyter-widgets/base",
            "_view_module_version": "1.2.0",
            "_view_name": "LayoutView",
            "align_content": null,
            "align_items": null,
            "align_self": null,
            "border": null,
            "bottom": null,
            "display": null,
            "flex": null,
            "flex_flow": null,
            "grid_area": null,
            "grid_auto_columns": null,
            "grid_auto_flow": null,
            "grid_auto_rows": null,
            "grid_column": null,
            "grid_gap": null,
            "grid_row": null,
            "grid_template_areas": null,
            "grid_template_columns": null,
            "grid_template_rows": null,
            "height": null,
            "justify_content": null,
            "justify_items": null,
            "left": null,
            "margin": null,
            "max_height": null,
            "max_width": null,
            "min_height": null,
            "min_width": null,
            "object_fit": null,
            "object_position": null,
            "order": null,
            "overflow": null,
            "overflow_x": null,
            "overflow_y": null,
            "padding": null,
            "right": null,
            "top": null,
            "visibility": null,
            "width": null
          }
        },
        "839724a0685748439fa61baecbfb6d6d": {
          "model_module": "@jupyter-widgets/base",
          "model_module_version": "1.2.0",
          "model_name": "LayoutModel",
          "state": {
            "_model_module": "@jupyter-widgets/base",
            "_model_module_version": "1.2.0",
            "_model_name": "LayoutModel",
            "_view_count": null,
            "_view_module": "@jupyter-widgets/base",
            "_view_module_version": "1.2.0",
            "_view_name": "LayoutView",
            "align_content": null,
            "align_items": null,
            "align_self": null,
            "border": null,
            "bottom": null,
            "display": null,
            "flex": null,
            "flex_flow": null,
            "grid_area": null,
            "grid_auto_columns": null,
            "grid_auto_flow": null,
            "grid_auto_rows": null,
            "grid_column": null,
            "grid_gap": null,
            "grid_row": null,
            "grid_template_areas": null,
            "grid_template_columns": null,
            "grid_template_rows": null,
            "height": null,
            "justify_content": null,
            "justify_items": null,
            "left": null,
            "margin": null,
            "max_height": null,
            "max_width": null,
            "min_height": null,
            "min_width": null,
            "object_fit": null,
            "object_position": null,
            "order": null,
            "overflow": null,
            "overflow_x": null,
            "overflow_y": null,
            "padding": null,
            "right": null,
            "top": null,
            "visibility": null,
            "width": null
          }
        },
        "9183b2aa3f074b2b8e63f7a0604deb1b": {
          "model_module": "@jupyter-widgets/controls",
          "model_module_version": "1.5.0",
          "model_name": "FloatProgressModel",
          "state": {
            "_dom_classes": [],
            "_model_module": "@jupyter-widgets/controls",
            "_model_module_version": "1.5.0",
            "_model_name": "FloatProgressModel",
            "_view_count": null,
            "_view_module": "@jupyter-widgets/controls",
            "_view_module_version": "1.5.0",
            "_view_name": "ProgressView",
            "bar_style": "success",
            "description": "",
            "description_tooltip": null,
            "layout": "IPY_MODEL_df3d858948314167b25878b2a8ced6f1",
            "max": 1,
            "min": 0,
            "orientation": "horizontal",
            "style": "IPY_MODEL_ae29fd5957764d7cb791cbc84ac77789",
            "value": 1
          }
        },
        "95d4b145969a48bb8f11fb0fa3a1a88d": {
          "model_module": "@jupyter-widgets/controls",
          "model_module_version": "1.5.0",
          "model_name": "FloatProgressModel",
          "state": {
            "_dom_classes": [],
            "_model_module": "@jupyter-widgets/controls",
            "_model_module_version": "1.5.0",
            "_model_name": "FloatProgressModel",
            "_view_count": null,
            "_view_module": "@jupyter-widgets/controls",
            "_view_module_version": "1.5.0",
            "_view_name": "ProgressView",
            "bar_style": "success",
            "description": "",
            "description_tooltip": null,
            "layout": "IPY_MODEL_d15003defdaf4f52bc2bc4d22718c4d5",
            "max": 5,
            "min": 0,
            "orientation": "horizontal",
            "style": "IPY_MODEL_0e1df984ef864c459cf16a13f20b352b",
            "value": 5
          }
        },
        "985b43d47b5a45948946c65b1132ccd2": {
          "model_module": "@jupyter-widgets/controls",
          "model_module_version": "1.5.0",
          "model_name": "HBoxModel",
          "state": {
            "_dom_classes": [],
            "_model_module": "@jupyter-widgets/controls",
            "_model_module_version": "1.5.0",
            "_model_name": "HBoxModel",
            "_view_count": null,
            "_view_module": "@jupyter-widgets/controls",
            "_view_module_version": "1.5.0",
            "_view_name": "HBoxView",
            "box_style": "",
            "children": [
              "IPY_MODEL_b34a85e9ff3745999abbc258d2732459",
              "IPY_MODEL_95d4b145969a48bb8f11fb0fa3a1a88d",
              "IPY_MODEL_b6e7178c9a1a4659b151cab1d902acd2"
            ],
            "layout": "IPY_MODEL_839724a0685748439fa61baecbfb6d6d"
          }
        },
        "9bb7c030415a4262969af93764807799": {
          "model_module": "@jupyter-widgets/controls",
          "model_module_version": "1.5.0",
          "model_name": "HTMLModel",
          "state": {
            "_dom_classes": [],
            "_model_module": "@jupyter-widgets/controls",
            "_model_module_version": "1.5.0",
            "_model_name": "HTMLModel",
            "_view_count": null,
            "_view_module": "@jupyter-widgets/controls",
            "_view_module_version": "1.5.0",
            "_view_name": "HTMLView",
            "description": "",
            "description_tooltip": null,
            "layout": "IPY_MODEL_75fc07007681484e92f78514055b908e",
            "placeholder": "​",
            "style": "IPY_MODEL_dd781203f6244df28819fa2d5f30bdd3",
            "value": " 1/1 [00:03&lt;00:00,  3.73s/it]"
          }
        },
        "a7d839ba80524cae83c0f26ddb66e455": {
          "model_module": "@jupyter-widgets/controls",
          "model_module_version": "1.5.0",
          "model_name": "DescriptionStyleModel",
          "state": {
            "_model_module": "@jupyter-widgets/controls",
            "_model_module_version": "1.5.0",
            "_model_name": "DescriptionStyleModel",
            "_view_count": null,
            "_view_module": "@jupyter-widgets/base",
            "_view_module_version": "1.2.0",
            "_view_name": "StyleView",
            "description_width": ""
          }
        },
        "ae29fd5957764d7cb791cbc84ac77789": {
          "model_module": "@jupyter-widgets/controls",
          "model_module_version": "1.5.0",
          "model_name": "ProgressStyleModel",
          "state": {
            "_model_module": "@jupyter-widgets/controls",
            "_model_module_version": "1.5.0",
            "_model_name": "ProgressStyleModel",
            "_view_count": null,
            "_view_module": "@jupyter-widgets/base",
            "_view_module_version": "1.2.0",
            "_view_name": "StyleView",
            "bar_color": null,
            "description_width": ""
          }
        },
        "b34a85e9ff3745999abbc258d2732459": {
          "model_module": "@jupyter-widgets/controls",
          "model_module_version": "1.5.0",
          "model_name": "HTMLModel",
          "state": {
            "_dom_classes": [],
            "_model_module": "@jupyter-widgets/controls",
            "_model_module_version": "1.5.0",
            "_model_name": "HTMLModel",
            "_view_count": null,
            "_view_module": "@jupyter-widgets/controls",
            "_view_module_version": "1.5.0",
            "_view_name": "HTMLView",
            "description": "",
            "description_tooltip": null,
            "layout": "IPY_MODEL_0e820c13f2f244888c9092938031a82a",
            "placeholder": "​",
            "style": "IPY_MODEL_3e2667e44ebf408ea70a3f3160632d7c",
            "value": "Summarize dataset: 100%"
          }
        },
        "b6e7178c9a1a4659b151cab1d902acd2": {
          "model_module": "@jupyter-widgets/controls",
          "model_module_version": "1.5.0",
          "model_name": "HTMLModel",
          "state": {
            "_dom_classes": [],
            "_model_module": "@jupyter-widgets/controls",
            "_model_module_version": "1.5.0",
            "_model_name": "HTMLModel",
            "_view_count": null,
            "_view_module": "@jupyter-widgets/controls",
            "_view_module_version": "1.5.0",
            "_view_name": "HTMLView",
            "description": "",
            "description_tooltip": null,
            "layout": "IPY_MODEL_02ba80d42783486d8179d791d137a998",
            "placeholder": "​",
            "style": "IPY_MODEL_5e2a631dd5f3462294cf51f122f8dbd0",
            "value": " 173/173 [00:44&lt;00:00,  3.43it/s, Completed]"
          }
        },
        "bde25149f2684c7ab4ed7d5b68cd4220": {
          "model_module": "@jupyter-widgets/base",
          "model_module_version": "1.2.0",
          "model_name": "LayoutModel",
          "state": {
            "_model_module": "@jupyter-widgets/base",
            "_model_module_version": "1.2.0",
            "_model_name": "LayoutModel",
            "_view_count": null,
            "_view_module": "@jupyter-widgets/base",
            "_view_module_version": "1.2.0",
            "_view_name": "LayoutView",
            "align_content": null,
            "align_items": null,
            "align_self": null,
            "border": null,
            "bottom": null,
            "display": null,
            "flex": null,
            "flex_flow": null,
            "grid_area": null,
            "grid_auto_columns": null,
            "grid_auto_flow": null,
            "grid_auto_rows": null,
            "grid_column": null,
            "grid_gap": null,
            "grid_row": null,
            "grid_template_areas": null,
            "grid_template_columns": null,
            "grid_template_rows": null,
            "height": null,
            "justify_content": null,
            "justify_items": null,
            "left": null,
            "margin": null,
            "max_height": null,
            "max_width": null,
            "min_height": null,
            "min_width": null,
            "object_fit": null,
            "object_position": null,
            "order": null,
            "overflow": null,
            "overflow_x": null,
            "overflow_y": null,
            "padding": null,
            "right": null,
            "top": null,
            "visibility": null,
            "width": null
          }
        },
        "d15003defdaf4f52bc2bc4d22718c4d5": {
          "model_module": "@jupyter-widgets/base",
          "model_module_version": "1.2.0",
          "model_name": "LayoutModel",
          "state": {
            "_model_module": "@jupyter-widgets/base",
            "_model_module_version": "1.2.0",
            "_model_name": "LayoutModel",
            "_view_count": null,
            "_view_module": "@jupyter-widgets/base",
            "_view_module_version": "1.2.0",
            "_view_name": "LayoutView",
            "align_content": null,
            "align_items": null,
            "align_self": null,
            "border": null,
            "bottom": null,
            "display": null,
            "flex": null,
            "flex_flow": null,
            "grid_area": null,
            "grid_auto_columns": null,
            "grid_auto_flow": null,
            "grid_auto_rows": null,
            "grid_column": null,
            "grid_gap": null,
            "grid_row": null,
            "grid_template_areas": null,
            "grid_template_columns": null,
            "grid_template_rows": null,
            "height": null,
            "justify_content": null,
            "justify_items": null,
            "left": null,
            "margin": null,
            "max_height": null,
            "max_width": null,
            "min_height": null,
            "min_width": null,
            "object_fit": null,
            "object_position": null,
            "order": null,
            "overflow": null,
            "overflow_x": null,
            "overflow_y": null,
            "padding": null,
            "right": null,
            "top": null,
            "visibility": null,
            "width": null
          }
        },
        "d2bab4ef2238408c94c45ba0c5b44f73": {
          "model_module": "@jupyter-widgets/controls",
          "model_module_version": "1.5.0",
          "model_name": "FloatProgressModel",
          "state": {
            "_dom_classes": [],
            "_model_module": "@jupyter-widgets/controls",
            "_model_module_version": "1.5.0",
            "_model_name": "FloatProgressModel",
            "_view_count": null,
            "_view_module": "@jupyter-widgets/controls",
            "_view_module_version": "1.5.0",
            "_view_name": "ProgressView",
            "bar_style": "success",
            "description": "",
            "description_tooltip": null,
            "layout": "IPY_MODEL_082fc80576c14414b7675b9b6298692c",
            "max": 1,
            "min": 0,
            "orientation": "horizontal",
            "style": "IPY_MODEL_155ae89edeef4190951c011a7d9515f2",
            "value": 1
          }
        },
        "d419070d0ec3412ba6079bfef99c491f": {
          "model_module": "@jupyter-widgets/controls",
          "model_module_version": "1.5.0",
          "model_name": "HTMLModel",
          "state": {
            "_dom_classes": [],
            "_model_module": "@jupyter-widgets/controls",
            "_model_module_version": "1.5.0",
            "_model_name": "HTMLModel",
            "_view_count": null,
            "_view_module": "@jupyter-widgets/controls",
            "_view_module_version": "1.5.0",
            "_view_name": "HTMLView",
            "description": "",
            "description_tooltip": null,
            "layout": "IPY_MODEL_30a15c81048940629efa71d5e32c9ca8",
            "placeholder": "​",
            "style": "IPY_MODEL_3977223d5856405c926157d58b7f01b3",
            "value": "Generate report structure: 100%"
          }
        },
        "d9fd587d95a748c19eebd560043d3444": {
          "model_module": "@jupyter-widgets/base",
          "model_module_version": "1.2.0",
          "model_name": "LayoutModel",
          "state": {
            "_model_module": "@jupyter-widgets/base",
            "_model_module_version": "1.2.0",
            "_model_name": "LayoutModel",
            "_view_count": null,
            "_view_module": "@jupyter-widgets/base",
            "_view_module_version": "1.2.0",
            "_view_name": "LayoutView",
            "align_content": null,
            "align_items": null,
            "align_self": null,
            "border": null,
            "bottom": null,
            "display": null,
            "flex": null,
            "flex_flow": null,
            "grid_area": null,
            "grid_auto_columns": null,
            "grid_auto_flow": null,
            "grid_auto_rows": null,
            "grid_column": null,
            "grid_gap": null,
            "grid_row": null,
            "grid_template_areas": null,
            "grid_template_columns": null,
            "grid_template_rows": null,
            "height": null,
            "justify_content": null,
            "justify_items": null,
            "left": null,
            "margin": null,
            "max_height": null,
            "max_width": null,
            "min_height": null,
            "min_width": null,
            "object_fit": null,
            "object_position": null,
            "order": null,
            "overflow": null,
            "overflow_x": null,
            "overflow_y": null,
            "padding": null,
            "right": null,
            "top": null,
            "visibility": null,
            "width": null
          }
        },
        "dd781203f6244df28819fa2d5f30bdd3": {
          "model_module": "@jupyter-widgets/controls",
          "model_module_version": "1.5.0",
          "model_name": "DescriptionStyleModel",
          "state": {
            "_model_module": "@jupyter-widgets/controls",
            "_model_module_version": "1.5.0",
            "_model_name": "DescriptionStyleModel",
            "_view_count": null,
            "_view_module": "@jupyter-widgets/base",
            "_view_module_version": "1.2.0",
            "_view_name": "StyleView",
            "description_width": ""
          }
        },
        "ddd78ec6306a4df1911ce419d8d8eb85": {
          "model_module": "@jupyter-widgets/base",
          "model_module_version": "1.2.0",
          "model_name": "LayoutModel",
          "state": {
            "_model_module": "@jupyter-widgets/base",
            "_model_module_version": "1.2.0",
            "_model_name": "LayoutModel",
            "_view_count": null,
            "_view_module": "@jupyter-widgets/base",
            "_view_module_version": "1.2.0",
            "_view_name": "LayoutView",
            "align_content": null,
            "align_items": null,
            "align_self": null,
            "border": null,
            "bottom": null,
            "display": null,
            "flex": null,
            "flex_flow": null,
            "grid_area": null,
            "grid_auto_columns": null,
            "grid_auto_flow": null,
            "grid_auto_rows": null,
            "grid_column": null,
            "grid_gap": null,
            "grid_row": null,
            "grid_template_areas": null,
            "grid_template_columns": null,
            "grid_template_rows": null,
            "height": null,
            "justify_content": null,
            "justify_items": null,
            "left": null,
            "margin": null,
            "max_height": null,
            "max_width": null,
            "min_height": null,
            "min_width": null,
            "object_fit": null,
            "object_position": null,
            "order": null,
            "overflow": null,
            "overflow_x": null,
            "overflow_y": null,
            "padding": null,
            "right": null,
            "top": null,
            "visibility": null,
            "width": null
          }
        },
        "df3d858948314167b25878b2a8ced6f1": {
          "model_module": "@jupyter-widgets/base",
          "model_module_version": "1.2.0",
          "model_name": "LayoutModel",
          "state": {
            "_model_module": "@jupyter-widgets/base",
            "_model_module_version": "1.2.0",
            "_model_name": "LayoutModel",
            "_view_count": null,
            "_view_module": "@jupyter-widgets/base",
            "_view_module_version": "1.2.0",
            "_view_name": "LayoutView",
            "align_content": null,
            "align_items": null,
            "align_self": null,
            "border": null,
            "bottom": null,
            "display": null,
            "flex": null,
            "flex_flow": null,
            "grid_area": null,
            "grid_auto_columns": null,
            "grid_auto_flow": null,
            "grid_auto_rows": null,
            "grid_column": null,
            "grid_gap": null,
            "grid_row": null,
            "grid_template_areas": null,
            "grid_template_columns": null,
            "grid_template_rows": null,
            "height": null,
            "justify_content": null,
            "justify_items": null,
            "left": null,
            "margin": null,
            "max_height": null,
            "max_width": null,
            "min_height": null,
            "min_width": null,
            "object_fit": null,
            "object_position": null,
            "order": null,
            "overflow": null,
            "overflow_x": null,
            "overflow_y": null,
            "padding": null,
            "right": null,
            "top": null,
            "visibility": null,
            "width": null
          }
        },
        "e3caf55ee5ce4cdd882f7fbc87b489ca": {
          "model_module": "@jupyter-widgets/controls",
          "model_module_version": "1.5.0",
          "model_name": "HBoxModel",
          "state": {
            "_dom_classes": [],
            "_model_module": "@jupyter-widgets/controls",
            "_model_module_version": "1.5.0",
            "_model_name": "HBoxModel",
            "_view_count": null,
            "_view_module": "@jupyter-widgets/controls",
            "_view_module_version": "1.5.0",
            "_view_name": "HBoxView",
            "box_style": "",
            "children": [
              "IPY_MODEL_d419070d0ec3412ba6079bfef99c491f",
              "IPY_MODEL_d2bab4ef2238408c94c45ba0c5b44f73",
              "IPY_MODEL_f7ad494f1f7d4214bc7c015b39c7d5bf"
            ],
            "layout": "IPY_MODEL_d9fd587d95a748c19eebd560043d3444"
          }
        },
        "ea87a862b97541f69faa952ddb6fa34e": {
          "model_module": "@jupyter-widgets/controls",
          "model_module_version": "1.5.0",
          "model_name": "HTMLModel",
          "state": {
            "_dom_classes": [],
            "_model_module": "@jupyter-widgets/controls",
            "_model_module_version": "1.5.0",
            "_model_name": "HTMLModel",
            "_view_count": null,
            "_view_module": "@jupyter-widgets/controls",
            "_view_module_version": "1.5.0",
            "_view_name": "HTMLView",
            "description": "",
            "description_tooltip": null,
            "layout": "IPY_MODEL_36dc82d8b4164e68b06cdc4d0997f8ca",
            "placeholder": "​",
            "style": "IPY_MODEL_39f5cbd19b404b8b80dbf14e977bb662",
            "value": "Render HTML: 100%"
          }
        },
        "f7ad494f1f7d4214bc7c015b39c7d5bf": {
          "model_module": "@jupyter-widgets/controls",
          "model_module_version": "1.5.0",
          "model_name": "HTMLModel",
          "state": {
            "_dom_classes": [],
            "_model_module": "@jupyter-widgets/controls",
            "_model_module_version": "1.5.0",
            "_model_name": "HTMLModel",
            "_view_count": null,
            "_view_module": "@jupyter-widgets/controls",
            "_view_module_version": "1.5.0",
            "_view_name": "HTMLView",
            "description": "",
            "description_tooltip": null,
            "layout": "IPY_MODEL_ddd78ec6306a4df1911ce419d8d8eb85",
            "placeholder": "​",
            "style": "IPY_MODEL_a7d839ba80524cae83c0f26ddb66e455",
            "value": " 1/1 [00:11&lt;00:00, 11.80s/it]"
          }
        }
      }
    }
  },
  "nbformat": 4,
  "nbformat_minor": 0
}
